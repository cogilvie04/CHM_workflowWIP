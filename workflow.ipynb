{
 "cells": [
  {
   "cell_type": "code",
   "execution_count": 41,
   "id": "08be99b0",
   "metadata": {},
   "outputs": [
    {
     "name": "stdout",
     "output_type": "stream",
     "text": [
      "Requirement already satisfied: rasterio in c:\\users\\conno\\appdata\\local\\programs\\python\\python313\\lib\\site-packages (1.4.3)\n",
      "Requirement already satisfied: affine in c:\\users\\conno\\appdata\\local\\programs\\python\\python313\\lib\\site-packages (from rasterio) (2.4.0)\n",
      "Requirement already satisfied: attrs in c:\\users\\conno\\appdata\\local\\programs\\python\\python313\\lib\\site-packages (from rasterio) (25.3.0)\n",
      "Requirement already satisfied: certifi in c:\\users\\conno\\appdata\\local\\programs\\python\\python313\\lib\\site-packages (from rasterio) (2025.10.5)\n",
      "Requirement already satisfied: click>=4.0 in c:\\users\\conno\\appdata\\local\\programs\\python\\python313\\lib\\site-packages (from rasterio) (8.3.0)\n",
      "Requirement already satisfied: cligj>=0.5 in c:\\users\\conno\\appdata\\local\\programs\\python\\python313\\lib\\site-packages (from rasterio) (0.7.2)\n",
      "Requirement already satisfied: numpy>=1.24 in c:\\users\\conno\\appdata\\local\\programs\\python\\python313\\lib\\site-packages (from rasterio) (2.3.3)\n",
      "Requirement already satisfied: click-plugins in c:\\users\\conno\\appdata\\local\\programs\\python\\python313\\lib\\site-packages (from rasterio) (1.1.1.2)\n",
      "Requirement already satisfied: pyparsing in c:\\users\\conno\\appdata\\local\\programs\\python\\python313\\lib\\site-packages (from rasterio) (3.2.5)\n",
      "Requirement already satisfied: colorama in c:\\users\\conno\\appdata\\roaming\\python\\python313\\site-packages (from click>=4.0->rasterio) (0.4.6)\n",
      "Note: you may need to restart the kernel to use updated packages.\n"
     ]
    },
    {
     "name": "stderr",
     "output_type": "stream",
     "text": [
      "\n",
      "[notice] A new release of pip is available: 25.0.1 -> 25.2\n",
      "[notice] To update, run: python.exe -m pip install --upgrade pip\n"
     ]
    },
    {
     "name": "stdout",
     "output_type": "stream",
     "text": [
      "Requirement already satisfied: shapely in c:\\users\\conno\\appdata\\local\\programs\\python\\python313\\lib\\site-packages (2.1.2)\n",
      "Requirement already satisfied: numpy>=1.21 in c:\\users\\conno\\appdata\\local\\programs\\python\\python313\\lib\\site-packages (from shapely) (2.3.3)\n",
      "Note: you may need to restart the kernel to use updated packages.\n"
     ]
    },
    {
     "name": "stderr",
     "output_type": "stream",
     "text": [
      "\n",
      "[notice] A new release of pip is available: 25.0.1 -> 25.2\n",
      "[notice] To update, run: python.exe -m pip install --upgrade pip\n"
     ]
    },
    {
     "name": "stdout",
     "output_type": "stream",
     "text": [
      "Requirement already satisfied: matplotlib in c:\\users\\conno\\appdata\\local\\programs\\python\\python313\\lib\\site-packages (3.10.6)\n",
      "Requirement already satisfied: contourpy>=1.0.1 in c:\\users\\conno\\appdata\\local\\programs\\python\\python313\\lib\\site-packages (from matplotlib) (1.3.3)\n",
      "Requirement already satisfied: cycler>=0.10 in c:\\users\\conno\\appdata\\local\\programs\\python\\python313\\lib\\site-packages (from matplotlib) (0.12.1)\n",
      "Requirement already satisfied: fonttools>=4.22.0 in c:\\users\\conno\\appdata\\local\\programs\\python\\python313\\lib\\site-packages (from matplotlib) (4.60.1)\n",
      "Requirement already satisfied: kiwisolver>=1.3.1 in c:\\users\\conno\\appdata\\local\\programs\\python\\python313\\lib\\site-packages (from matplotlib) (1.4.9)\n",
      "Requirement already satisfied: numpy>=1.23 in c:\\users\\conno\\appdata\\local\\programs\\python\\python313\\lib\\site-packages (from matplotlib) (2.3.3)\n",
      "Requirement already satisfied: packaging>=20.0 in c:\\users\\conno\\appdata\\roaming\\python\\python313\\site-packages (from matplotlib) (24.2)\n",
      "Requirement already satisfied: pillow>=8 in c:\\users\\conno\\appdata\\local\\programs\\python\\python313\\lib\\site-packages (from matplotlib) (11.3.0)\n",
      "Requirement already satisfied: pyparsing>=2.3.1 in c:\\users\\conno\\appdata\\local\\programs\\python\\python313\\lib\\site-packages (from matplotlib) (3.2.5)\n",
      "Requirement already satisfied: python-dateutil>=2.7 in c:\\users\\conno\\appdata\\roaming\\python\\python313\\site-packages (from matplotlib) (2.9.0.post0)\n",
      "Requirement already satisfied: six>=1.5 in c:\\users\\conno\\appdata\\roaming\\python\\python313\\site-packages (from python-dateutil>=2.7->matplotlib) (1.17.0)\n",
      "Note: you may need to restart the kernel to use updated packages.\n"
     ]
    },
    {
     "name": "stderr",
     "output_type": "stream",
     "text": [
      "\n",
      "[notice] A new release of pip is available: 25.0.1 -> 25.2\n",
      "[notice] To update, run: python.exe -m pip install --upgrade pip\n"
     ]
    },
    {
     "name": "stdout",
     "output_type": "stream",
     "text": [
      "Requirement already satisfied: pandas in c:\\users\\conno\\appdata\\local\\programs\\python\\python313\\lib\\site-packages (2.3.3)\n",
      "Requirement already satisfied: numpy>=1.26.0 in c:\\users\\conno\\appdata\\local\\programs\\python\\python313\\lib\\site-packages (from pandas) (2.3.3)\n",
      "Requirement already satisfied: python-dateutil>=2.8.2 in c:\\users\\conno\\appdata\\roaming\\python\\python313\\site-packages (from pandas) (2.9.0.post0)\n",
      "Requirement already satisfied: pytz>=2020.1 in c:\\users\\conno\\appdata\\local\\programs\\python\\python313\\lib\\site-packages (from pandas) (2025.2)\n",
      "Requirement already satisfied: tzdata>=2022.7 in c:\\users\\conno\\appdata\\local\\programs\\python\\python313\\lib\\site-packages (from pandas) (2025.2)\n",
      "Requirement already satisfied: six>=1.5 in c:\\users\\conno\\appdata\\roaming\\python\\python313\\site-packages (from python-dateutil>=2.8.2->pandas) (1.17.0)\n",
      "Note: you may need to restart the kernel to use updated packages.\n"
     ]
    },
    {
     "name": "stderr",
     "output_type": "stream",
     "text": [
      "\n",
      "[notice] A new release of pip is available: 25.0.1 -> 25.2\n",
      "[notice] To update, run: python.exe -m pip install --upgrade pip\n"
     ]
    },
    {
     "name": "stdout",
     "output_type": "stream",
     "text": [
      "Requirement already satisfied: geopandas in c:\\users\\conno\\appdata\\local\\programs\\python\\python313\\lib\\site-packages (1.1.1)\n",
      "Requirement already satisfied: numpy>=1.24 in c:\\users\\conno\\appdata\\local\\programs\\python\\python313\\lib\\site-packages (from geopandas) (2.3.3)\n",
      "Requirement already satisfied: pyogrio>=0.7.2 in c:\\users\\conno\\appdata\\local\\programs\\python\\python313\\lib\\site-packages (from geopandas) (0.11.1)\n",
      "Requirement already satisfied: packaging in c:\\users\\conno\\appdata\\roaming\\python\\python313\\site-packages (from geopandas) (24.2)\n",
      "Requirement already satisfied: pandas>=2.0.0 in c:\\users\\conno\\appdata\\local\\programs\\python\\python313\\lib\\site-packages (from geopandas) (2.3.3)\n",
      "Requirement already satisfied: pyproj>=3.5.0 in c:\\users\\conno\\appdata\\local\\programs\\python\\python313\\lib\\site-packages (from geopandas) (3.7.2)\n",
      "Requirement already satisfied: shapely>=2.0.0 in c:\\users\\conno\\appdata\\local\\programs\\python\\python313\\lib\\site-packages (from geopandas) (2.1.2)\n",
      "Requirement already satisfied: python-dateutil>=2.8.2 in c:\\users\\conno\\appdata\\roaming\\python\\python313\\site-packages (from pandas>=2.0.0->geopandas) (2.9.0.post0)\n",
      "Requirement already satisfied: pytz>=2020.1 in c:\\users\\conno\\appdata\\local\\programs\\python\\python313\\lib\\site-packages (from pandas>=2.0.0->geopandas) (2025.2)\n",
      "Requirement already satisfied: tzdata>=2022.7 in c:\\users\\conno\\appdata\\local\\programs\\python\\python313\\lib\\site-packages (from pandas>=2.0.0->geopandas) (2025.2)\n",
      "Requirement already satisfied: certifi in c:\\users\\conno\\appdata\\local\\programs\\python\\python313\\lib\\site-packages (from pyogrio>=0.7.2->geopandas) (2025.10.5)\n",
      "Requirement already satisfied: six>=1.5 in c:\\users\\conno\\appdata\\roaming\\python\\python313\\site-packages (from python-dateutil>=2.8.2->pandas>=2.0.0->geopandas) (1.17.0)\n",
      "Note: you may need to restart the kernel to use updated packages.\n"
     ]
    },
    {
     "name": "stderr",
     "output_type": "stream",
     "text": [
      "\n",
      "[notice] A new release of pip is available: 25.0.1 -> 25.2\n",
      "[notice] To update, run: python.exe -m pip install --upgrade pip\n"
     ]
    },
    {
     "name": "stdout",
     "output_type": "stream",
     "text": [
      "Requirement already satisfied: rasterstats in c:\\users\\conno\\appdata\\local\\programs\\python\\python313\\lib\\site-packages (0.20.0)\n",
      "Requirement already satisfied: affine in c:\\users\\conno\\appdata\\local\\programs\\python\\python313\\lib\\site-packages (from rasterstats) (2.4.0)\n",
      "Requirement already satisfied: click>7.1 in c:\\users\\conno\\appdata\\local\\programs\\python\\python313\\lib\\site-packages (from rasterstats) (8.3.0)\n",
      "Requirement already satisfied: cligj>=0.4 in c:\\users\\conno\\appdata\\local\\programs\\python\\python313\\lib\\site-packages (from rasterstats) (0.7.2)\n",
      "Requirement already satisfied: fiona in c:\\users\\conno\\appdata\\local\\programs\\python\\python313\\lib\\site-packages (from rasterstats) (1.10.1)\n",
      "Requirement already satisfied: numpy>=1.9 in c:\\users\\conno\\appdata\\local\\programs\\python\\python313\\lib\\site-packages (from rasterstats) (2.3.3)\n",
      "Requirement already satisfied: rasterio>=1.0 in c:\\users\\conno\\appdata\\local\\programs\\python\\python313\\lib\\site-packages (from rasterstats) (1.4.3)\n",
      "Requirement already satisfied: simplejson in c:\\users\\conno\\appdata\\local\\programs\\python\\python313\\lib\\site-packages (from rasterstats) (3.20.2)\n",
      "Requirement already satisfied: shapely in c:\\users\\conno\\appdata\\local\\programs\\python\\python313\\lib\\site-packages (from rasterstats) (2.1.2)\n",
      "Requirement already satisfied: colorama in c:\\users\\conno\\appdata\\roaming\\python\\python313\\site-packages (from click>7.1->rasterstats) (0.4.6)\n",
      "Requirement already satisfied: attrs in c:\\users\\conno\\appdata\\local\\programs\\python\\python313\\lib\\site-packages (from rasterio>=1.0->rasterstats) (25.3.0)\n",
      "Requirement already satisfied: certifi in c:\\users\\conno\\appdata\\local\\programs\\python\\python313\\lib\\site-packages (from rasterio>=1.0->rasterstats) (2025.10.5)\n",
      "Requirement already satisfied: click-plugins in c:\\users\\conno\\appdata\\local\\programs\\python\\python313\\lib\\site-packages (from rasterio>=1.0->rasterstats) (1.1.1.2)\n",
      "Requirement already satisfied: pyparsing in c:\\users\\conno\\appdata\\local\\programs\\python\\python313\\lib\\site-packages (from rasterio>=1.0->rasterstats) (3.2.5)\n",
      "Note: you may need to restart the kernel to use updated packages.\n"
     ]
    },
    {
     "name": "stderr",
     "output_type": "stream",
     "text": [
      "\n",
      "[notice] A new release of pip is available: 25.0.1 -> 25.2\n",
      "[notice] To update, run: python.exe -m pip install --upgrade pip\n"
     ]
    },
    {
     "name": "stdout",
     "output_type": "stream",
     "text": [
      "Collecting h3pandas\n",
      "  Downloading h3pandas-0.3.0-py3-none-any.whl.metadata (2.0 kB)\n",
      "Requirement already satisfied: geopandas in c:\\users\\conno\\appdata\\local\\programs\\python\\python313\\lib\\site-packages (from h3pandas) (1.1.1)\n",
      "Requirement already satisfied: numpy in c:\\users\\conno\\appdata\\local\\programs\\python\\python313\\lib\\site-packages (from h3pandas) (2.3.3)\n",
      "Requirement already satisfied: pandas in c:\\users\\conno\\appdata\\local\\programs\\python\\python313\\lib\\site-packages (from h3pandas) (2.3.3)\n",
      "Requirement already satisfied: shapely in c:\\users\\conno\\appdata\\local\\programs\\python\\python313\\lib\\site-packages (from h3pandas) (2.1.2)\n",
      "Requirement already satisfied: h3>=4 in c:\\users\\conno\\appdata\\local\\programs\\python\\python313\\lib\\site-packages (from h3pandas) (4.3.1)\n",
      "Collecting typing-extensions (from h3pandas)\n",
      "  Downloading typing_extensions-4.15.0-py3-none-any.whl.metadata (3.3 kB)\n",
      "Requirement already satisfied: pyogrio>=0.7.2 in c:\\users\\conno\\appdata\\local\\programs\\python\\python313\\lib\\site-packages (from geopandas->h3pandas) (0.11.1)\n",
      "Requirement already satisfied: packaging in c:\\users\\conno\\appdata\\roaming\\python\\python313\\site-packages (from geopandas->h3pandas) (24.2)\n",
      "Requirement already satisfied: pyproj>=3.5.0 in c:\\users\\conno\\appdata\\local\\programs\\python\\python313\\lib\\site-packages (from geopandas->h3pandas) (3.7.2)\n",
      "Requirement already satisfied: python-dateutil>=2.8.2 in c:\\users\\conno\\appdata\\roaming\\python\\python313\\site-packages (from pandas->h3pandas) (2.9.0.post0)\n",
      "Requirement already satisfied: pytz>=2020.1 in c:\\users\\conno\\appdata\\local\\programs\\python\\python313\\lib\\site-packages (from pandas->h3pandas) (2025.2)\n",
      "Requirement already satisfied: tzdata>=2022.7 in c:\\users\\conno\\appdata\\local\\programs\\python\\python313\\lib\\site-packages (from pandas->h3pandas) (2025.2)\n",
      "Requirement already satisfied: certifi in c:\\users\\conno\\appdata\\local\\programs\\python\\python313\\lib\\site-packages (from pyogrio>=0.7.2->geopandas->h3pandas) (2025.10.5)\n",
      "Requirement already satisfied: six>=1.5 in c:\\users\\conno\\appdata\\roaming\\python\\python313\\site-packages (from python-dateutil>=2.8.2->pandas->h3pandas) (1.17.0)\n",
      "Downloading h3pandas-0.3.0-py3-none-any.whl (53 kB)\n",
      "Downloading typing_extensions-4.15.0-py3-none-any.whl (44 kB)\n",
      "Installing collected packages: typing-extensions, h3pandas\n",
      "Successfully installed h3pandas-0.3.0 typing-extensions-4.15.0\n",
      "Note: you may need to restart the kernel to use updated packages.\n"
     ]
    },
    {
     "name": "stderr",
     "output_type": "stream",
     "text": [
      "\n",
      "[notice] A new release of pip is available: 25.0.1 -> 25.2\n",
      "[notice] To update, run: python.exe -m pip install --upgrade pip\n"
     ]
    }
   ],
   "source": [
    "%pip install rasterio\n",
    "%pip install shapely\n",
    "%pip install matplotlib\n",
    "%pip install pandas\n",
    "%pip install geopandas\n",
    "%pip install rasterstats\n",
    "%pip install h3pandas\n",
    "\n",
    "import pandas as pd\n",
    "import geopandas as gpd\n",
    "import rasterio\n",
    "import shapely\n",
    "import matplotlib as plt\n",
    "import rasterstats as rs\n",
    "import h3pandas"
   ]
  },
  {
   "cell_type": "code",
   "execution_count": null,
   "id": "8825e157",
   "metadata": {},
   "outputs": [],
   "source": []
  },
  {
   "cell_type": "code",
   "execution_count": 22,
   "id": "616724ce",
   "metadata": {},
   "outputs": [],
   "source": [
    "#Define rasters\n",
    "travis_hand_inv = rasterio.open(r\"C:/SPRING2025/SOAR/pythoninputs/travis_hand_inv.tif\")\n",
    "bp = rasterio.open(r\"C:/SPRING2025/SOAR/pythoninputs/BP_TX.tif\")\n",
    "bp_flep = rasterio.open(r\"C:\\SPRING2025\\SOAR/pythoninputs/bp_flep8_UCA.tif\")\n",
    "svi = rasterio.open(r\"C:\\SPRING2025\\SOAR/pythoninputs/svi_raster.tif\")"
   ]
  },
  {
   "cell_type": "code",
   "execution_count": 39,
   "id": "01c7cf6c",
   "metadata": {},
   "outputs": [],
   "source": [
    "#Define LMA points and Travis County boundary\n",
    "lma = gpd.GeoDataFrame.from_file(r\"C:/SPRING2025/SOAR/pythoninputs/lib_mus_arch.shp\")\n",
    "travis = gpd.GeoDataFrame.from_file(r\"C:/SPRING2025/SOAR/pythoninputs/travis.shp\")"
   ]
  },
  {
   "cell_type": "code",
   "execution_count": 34,
   "id": "e2b8b608",
   "metadata": {},
   "outputs": [
    {
     "name": "stdout",
     "output_type": "stream",
     "text": [
      "0      POLYGON ((-191600.731 814518.919, -191601.02 8...\n",
      "1      POLYGON ((-190445.19 821676.049, -190445.479 8...\n",
      "2      POLYGON ((-189899.666 836511.647, -189899.955 ...\n",
      "3      POLYGON ((-190218.83 811817.198, -190219.119 8...\n",
      "4      POLYGON ((-189399.303 809506.746, -189399.592 ...\n",
      "                             ...                        \n",
      "175    POLYGON ((-157649.55 784457.648, -157649.839 7...\n",
      "176    POLYGON ((-156093.213 819749.729, -156093.502 ...\n",
      "177    POLYGON ((-155880.4 804015.716, -155880.689 80...\n",
      "178    POLYGON ((-151364.491 799622.756, -151364.78 7...\n",
      "179    POLYGON ((-150005.377 791433.54, -150005.666 7...\n",
      "Length: 180, dtype: geometry\n"
     ]
    }
   ],
   "source": [
    "lma_buf = lma.buffer(60)\n",
    "print(lma_buf)\n",
    "#how to assign attributes of points to buffer -> Ask Alex"
   ]
  },
  {
   "cell_type": "code",
   "execution_count": null,
   "id": "fafc4fb8",
   "metadata": {},
   "outputs": [
    {
     "data": {
      "text/plain": [
       "<bound method NDFrame.head of 0      POLYGON ((-191600.731 814518.919, -191601.02 8...\n",
       "1      POLYGON ((-190445.19 821676.049, -190445.479 8...\n",
       "2      POLYGON ((-189899.666 836511.647, -189899.955 ...\n",
       "3      POLYGON ((-190218.83 811817.198, -190219.119 8...\n",
       "4      POLYGON ((-189399.303 809506.746, -189399.592 ...\n",
       "                             ...                        \n",
       "175    POLYGON ((-157649.55 784457.648, -157649.839 7...\n",
       "176    POLYGON ((-156093.213 819749.729, -156093.502 ...\n",
       "177    POLYGON ((-155880.4 804015.716, -155880.689 80...\n",
       "178    POLYGON ((-151364.491 799622.756, -151364.78 7...\n",
       "179    POLYGON ((-150005.377 791433.54, -150005.666 7...\n",
       "Length: 180, dtype: geometry>"
      ]
     },
     "execution_count": 33,
     "metadata": {},
     "output_type": "execute_result"
    }
   ],
   "source": []
  },
  {
   "cell_type": "code",
   "execution_count": 32,
   "id": "fb7fc2a6",
   "metadata": {},
   "outputs": [
    {
     "data": {
      "text/plain": [
       "<Axes: >"
      ]
     },
     "execution_count": 32,
     "metadata": {},
     "output_type": "execute_result"
    },
    {
     "data": {
      "image/png": "[encoded data removed]",
      "text/plain": [
       "<Figure size 640x480 with 1 Axes>"
      ]
     },
     "metadata": {},
     "output_type": "display_data"
    }
   ],
   "source": [
    "ax = travis.boundary.plot(color=\"black\")\n",
    "lma.plot(ax=ax, color=\"green\")"
   ]
  },
  {
   "cell_type": "code",
   "execution_count": 26,
   "id": "f16ebdb9",
   "metadata": {},
   "outputs": [
    {
     "ename": "TypeError",
     "evalue": "invalid path or file: <open DatasetReader name='C:/SPRING2025/SOAR/pythoninputs/BP_TX.tif' mode='r'>",
     "output_type": "error",
     "traceback": [
      "\u001b[31m---------------------------------------------------------------------------\u001b[39m",
      "\u001b[31mTypeError\u001b[39m                                 Traceback (most recent call last)",
      "\u001b[36mCell\u001b[39m\u001b[36m \u001b[39m\u001b[32mIn[26]\u001b[39m\u001b[32m, line 3\u001b[39m\n\u001b[32m      1\u001b[39m \u001b[38;5;66;03m#Zonal Statistics on buffers\u001b[39;00m\n\u001b[32m      2\u001b[39m \u001b[38;5;28;01mfrom\u001b[39;00m\u001b[38;5;250m \u001b[39m\u001b[34;01mrasterstats\u001b[39;00m\u001b[38;5;250m \u001b[39m\u001b[38;5;28;01mimport\u001b[39;00m zonal_stats\n\u001b[32m----> \u001b[39m\u001b[32m3\u001b[39m zs_bp = \u001b[43mzonal_stats\u001b[49m\u001b[43m(\u001b[49m\u001b[43mlma_buf\u001b[49m\u001b[43m,\u001b[49m\u001b[43m \u001b[49m\u001b[43mbp\u001b[49m\u001b[43m)\u001b[49m\n\u001b[32m      4\u001b[39m zs_svi = zonal_stats(lma_buf, svi)\n\u001b[32m      5\u001b[39m zs_hand = zonal_stats(lma_buf, travis_hand_inv)\n",
      "\u001b[36mFile \u001b[39m\u001b[32mc:\\Users\\conno\\AppData\\Local\\Programs\\Python\\Python313\\Lib\\site-packages\\rasterstats\\main.py:52\u001b[39m, in \u001b[36mzonal_stats\u001b[39m\u001b[34m(*args, **kwargs)\u001b[39m\n\u001b[32m     50\u001b[39m     \u001b[38;5;28;01mreturn\u001b[39;00m [stat \u001b[38;5;28;01mfor\u001b[39;00m stat \u001b[38;5;129;01min\u001b[39;00m tqdm(stats, total=total)]\n\u001b[32m     51\u001b[39m \u001b[38;5;28;01melse\u001b[39;00m:\n\u001b[32m---> \u001b[39m\u001b[32m52\u001b[39m     \u001b[38;5;28;01mreturn\u001b[39;00m \u001b[38;5;28;43mlist\u001b[39;49m\u001b[43m(\u001b[49m\u001b[43mgen_zonal_stats\u001b[49m\u001b[43m(\u001b[49m\u001b[43m*\u001b[49m\u001b[43margs\u001b[49m\u001b[43m,\u001b[49m\u001b[43m \u001b[49m\u001b[43m*\u001b[49m\u001b[43m*\u001b[49m\u001b[43mkwargs\u001b[49m\u001b[43m)\u001b[49m\u001b[43m)\u001b[49m\n",
      "\u001b[36mFile \u001b[39m\u001b[32mc:\\Users\\conno\\AppData\\Local\\Programs\\Python\\Python313\\Lib\\site-packages\\rasterstats\\main.py:177\u001b[39m, in \u001b[36mgen_zonal_stats\u001b[39m\u001b[34m(vectors, raster, layer, band, nodata, affine, stats, all_touched, categorical, category_map, add_stats, zone_func, raster_out, prefix, geojson_out, boundless, **kwargs)\u001b[39m\n\u001b[32m    174\u001b[39m     warnings.warn(\u001b[33m\"\u001b[39m\u001b[33mUse `band` to specify band number\u001b[39m\u001b[33m\"\u001b[39m, \u001b[38;5;167;01mDeprecationWarning\u001b[39;00m)\n\u001b[32m    175\u001b[39m     band = band_num\n\u001b[32m--> \u001b[39m\u001b[32m177\u001b[39m \u001b[38;5;28;01mwith\u001b[39;00m \u001b[43mRaster\u001b[49m\u001b[43m(\u001b[49m\u001b[43mraster\u001b[49m\u001b[43m,\u001b[49m\u001b[43m \u001b[49m\u001b[43maffine\u001b[49m\u001b[43m,\u001b[49m\u001b[43m \u001b[49m\u001b[43mnodata\u001b[49m\u001b[43m,\u001b[49m\u001b[43m \u001b[49m\u001b[43mband\u001b[49m\u001b[43m)\u001b[49m \u001b[38;5;28;01mas\u001b[39;00m rast:\n\u001b[32m    178\u001b[39m     features_iter = read_features(vectors, layer)\n\u001b[32m    179\u001b[39m     \u001b[38;5;28;01mfor\u001b[39;00m _, feat \u001b[38;5;129;01min\u001b[39;00m \u001b[38;5;28menumerate\u001b[39m(features_iter):\n",
      "\u001b[36mFile \u001b[39m\u001b[32mc:\\Users\\conno\\AppData\\Local\\Programs\\Python\\Python313\\Lib\\site-packages\\rasterstats\\io.py:274\u001b[39m, in \u001b[36mRaster.__init__\u001b[39m\u001b[34m(self, raster, affine, nodata, band)\u001b[39m\n\u001b[32m    272\u001b[39m     \u001b[38;5;28mself\u001b[39m.nodata = nodata\n\u001b[32m    273\u001b[39m \u001b[38;5;28;01melse\u001b[39;00m:\n\u001b[32m--> \u001b[39m\u001b[32m274\u001b[39m     \u001b[38;5;28mself\u001b[39m.src = \u001b[43mrasterio\u001b[49m\u001b[43m.\u001b[49m\u001b[43mopen\u001b[49m\u001b[43m(\u001b[49m\u001b[43mraster\u001b[49m\u001b[43m,\u001b[49m\u001b[43m \u001b[49m\u001b[33;43m\"\u001b[39;49m\u001b[33;43mr\u001b[39;49m\u001b[33;43m\"\u001b[39;49m\u001b[43m)\u001b[49m\n\u001b[32m    275\u001b[39m     \u001b[38;5;28mself\u001b[39m.affine = guard_transform(\u001b[38;5;28mself\u001b[39m.src.transform)\n\u001b[32m    276\u001b[39m     \u001b[38;5;28mself\u001b[39m.shape = (\u001b[38;5;28mself\u001b[39m.src.height, \u001b[38;5;28mself\u001b[39m.src.width)\n",
      "\u001b[36mFile \u001b[39m\u001b[32mc:\\Users\\conno\\AppData\\Local\\Programs\\Python\\Python313\\Lib\\site-packages\\rasterio\\env.py:463\u001b[39m, in \u001b[36mensure_env_with_credentials.<locals>.wrapper\u001b[39m\u001b[34m(*args, **kwds)\u001b[39m\n\u001b[32m    460\u001b[39m     session = DummySession()\n\u001b[32m    462\u001b[39m \u001b[38;5;28;01mwith\u001b[39;00m env_ctor(session=session):\n\u001b[32m--> \u001b[39m\u001b[32m463\u001b[39m     \u001b[38;5;28;01mreturn\u001b[39;00m \u001b[43mf\u001b[49m\u001b[43m(\u001b[49m\u001b[43m*\u001b[49m\u001b[43margs\u001b[49m\u001b[43m,\u001b[49m\u001b[43m \u001b[49m\u001b[43m*\u001b[49m\u001b[43m*\u001b[49m\u001b[43mkwds\u001b[49m\u001b[43m)\u001b[49m\n",
      "\u001b[36mFile \u001b[39m\u001b[32mc:\\Users\\conno\\AppData\\Local\\Programs\\Python\\Python313\\Lib\\site-packages\\rasterio\\__init__.py:258\u001b[39m, in \u001b[36mopen\u001b[39m\u001b[34m(fp, mode, driver, width, height, count, crs, transform, dtype, nodata, sharing, opener, **kwargs)\u001b[39m\n\u001b[32m    251\u001b[39m \u001b[38;5;28;01mif\u001b[39;00m \u001b[38;5;129;01mnot\u001b[39;00m \u001b[38;5;28misinstance\u001b[39m(fp, \u001b[38;5;28mstr\u001b[39m):\n\u001b[32m    252\u001b[39m     \u001b[38;5;28;01mif\u001b[39;00m \u001b[38;5;129;01mnot\u001b[39;00m (\n\u001b[32m    253\u001b[39m         \u001b[38;5;28mhasattr\u001b[39m(fp, \u001b[33m\"\u001b[39m\u001b[33mopen\u001b[39m\u001b[33m\"\u001b[39m)\n\u001b[32m    254\u001b[39m         \u001b[38;5;129;01mor\u001b[39;00m \u001b[38;5;28mhasattr\u001b[39m(fp, \u001b[33m\"\u001b[39m\u001b[33mread\u001b[39m\u001b[33m\"\u001b[39m)\n\u001b[32m    255\u001b[39m         \u001b[38;5;129;01mor\u001b[39;00m \u001b[38;5;28mhasattr\u001b[39m(fp, \u001b[33m\"\u001b[39m\u001b[33mwrite\u001b[39m\u001b[33m\"\u001b[39m)\n\u001b[32m    256\u001b[39m         \u001b[38;5;129;01mor\u001b[39;00m \u001b[38;5;28misinstance\u001b[39m(fp, (os.PathLike, MemoryFile, FilePath))\n\u001b[32m    257\u001b[39m     ) \u001b[38;5;129;01mor\u001b[39;00m \u001b[38;5;28misinstance\u001b[39m(fp, DatasetBase):\n\u001b[32m--> \u001b[39m\u001b[32m258\u001b[39m         \u001b[38;5;28;01mraise\u001b[39;00m \u001b[38;5;167;01mTypeError\u001b[39;00m(\u001b[33mf\u001b[39m\u001b[33m\"\u001b[39m\u001b[33minvalid path or file: \u001b[39m\u001b[38;5;132;01m{\u001b[39;00mfp\u001b[38;5;132;01m!r}\u001b[39;00m\u001b[33m\"\u001b[39m)\n\u001b[32m    259\u001b[39m \u001b[38;5;28;01mif\u001b[39;00m \u001b[38;5;129;01mnot\u001b[39;00m \u001b[38;5;28misinstance\u001b[39m(mode, \u001b[38;5;28mstr\u001b[39m):\n\u001b[32m    260\u001b[39m     \u001b[38;5;28;01mraise\u001b[39;00m \u001b[38;5;167;01mTypeError\u001b[39;00m(\u001b[33mf\u001b[39m\u001b[33m\"\u001b[39m\u001b[33minvalid mode: \u001b[39m\u001b[38;5;132;01m{\u001b[39;00mmode\u001b[38;5;132;01m!r}\u001b[39;00m\u001b[33m\"\u001b[39m)\n",
      "\u001b[31mTypeError\u001b[39m: invalid path or file: <open DatasetReader name='C:/SPRING2025/SOAR/pythoninputs/BP_TX.tif' mode='r'>"
     ]
    }
   ],
   "source": [
    "#Zonal Statistics on buffers\n",
    "from rasterstats import zonal_stats\n",
    "zs_bp = zonal_stats(lma_buf, bp)\n",
    "zs_svi = zonal_stats(lma_buf, svi)\n",
    "zs_hand = zonal_stats(lma_buf, travis_hand_inv)"
   ]
  },
  {
   "cell_type": "code",
   "execution_count": null,
   "id": "a8a4a30a",
   "metadata": {},
   "outputs": [],
   "source": [
    "#Join ZS outputs to LMA gdf"
   ]
  },
  {
   "cell_type": "code",
   "execution_count": null,
   "id": "48811ecf",
   "metadata": {},
   "outputs": [],
   "source": []
  },
  {
   "cell_type": "code",
   "execution_count": 42,
   "id": "0dbc5636",
   "metadata": {},
   "outputs": [
    {
     "ename": "ValueError",
     "evalue": "x attribute access only provided for Point geometries",
     "output_type": "error",
     "traceback": [
      "\u001b[31m---------------------------------------------------------------------------\u001b[39m",
      "\u001b[31mValueError\u001b[39m                                Traceback (most recent call last)",
      "\u001b[36mCell\u001b[39m\u001b[36m \u001b[39m\u001b[32mIn[42]\u001b[39m\u001b[32m, line 2\u001b[39m\n\u001b[32m      1\u001b[39m \u001b[38;5;66;03m#Create H3 polygons / Assign points to H3 based on POP\u001b[39;00m\n\u001b[32m----> \u001b[39m\u001b[32m2\u001b[39m h3_8 = \u001b[43mtravis\u001b[49m\u001b[43m.\u001b[49m\u001b[43mh3\u001b[49m\u001b[43m.\u001b[49m\u001b[43mgeo_to_h3\u001b[49m\u001b[43m(\u001b[49m\u001b[32;43m8\u001b[39;49m\u001b[43m)\u001b[49m\n",
      "\u001b[36mFile \u001b[39m\u001b[32mc:\\Users\\conno\\AppData\\Local\\Programs\\Python\\Python313\\Lib\\site-packages\\h3pandas\\h3pandas.py:88\u001b[39m, in \u001b[36mH3Accessor.geo_to_h3\u001b[39m\u001b[34m(self, resolution, lat_col, lng_col, set_index)\u001b[39m\n\u001b[32m     38\u001b[39m \u001b[38;5;250m\u001b[39m\u001b[33;03m\"\"\"Adds H3 index to (Geo)DataFrame.\u001b[39;00m\n\u001b[32m     39\u001b[39m \n\u001b[32m     40\u001b[39m \u001b[33;03mpd.DataFrame: uses `lat_col` and `lng_col` (default `lat` and `lng`)\u001b[39;00m\n\u001b[32m   (...)\u001b[39m\u001b[32m     85\u001b[39m \n\u001b[32m     86\u001b[39m \u001b[33;03m\"\"\"\u001b[39;00m\n\u001b[32m     87\u001b[39m \u001b[38;5;28;01mif\u001b[39;00m \u001b[38;5;28misinstance\u001b[39m(\u001b[38;5;28mself\u001b[39m._df, gpd.GeoDataFrame):\n\u001b[32m---> \u001b[39m\u001b[32m88\u001b[39m     lngs = \u001b[38;5;28;43mself\u001b[39;49m\u001b[43m.\u001b[49m\u001b[43m_df\u001b[49m\u001b[43m.\u001b[49m\u001b[43mgeometry\u001b[49m\u001b[43m.\u001b[49m\u001b[43mx\u001b[49m\n\u001b[32m     89\u001b[39m     lats = \u001b[38;5;28mself\u001b[39m._df.geometry.y\n\u001b[32m     90\u001b[39m \u001b[38;5;28;01melse\u001b[39;00m:\n",
      "\u001b[36mFile \u001b[39m\u001b[32mc:\\Users\\conno\\AppData\\Local\\Programs\\Python\\Python313\\Lib\\site-packages\\geopandas\\geoseries.py:274\u001b[39m, in \u001b[36mGeoSeries.x\u001b[39m\u001b[34m(self)\u001b[39m\n\u001b[32m    250\u001b[39m \u001b[38;5;129m@property\u001b[39m\n\u001b[32m    251\u001b[39m \u001b[38;5;28;01mdef\u001b[39;00m\u001b[38;5;250m \u001b[39m\u001b[34mx\u001b[39m(\u001b[38;5;28mself\u001b[39m) -> Series:\n\u001b[32m    252\u001b[39m \u001b[38;5;250m    \u001b[39m\u001b[33;03m\"\"\"Return the x location of point geometries in a GeoSeries.\u001b[39;00m\n\u001b[32m    253\u001b[39m \n\u001b[32m    254\u001b[39m \u001b[33;03m    Returns\u001b[39;00m\n\u001b[32m   (...)\u001b[39m\u001b[32m    272\u001b[39m \n\u001b[32m    273\u001b[39m \u001b[33;03m    \"\"\"\u001b[39;00m\n\u001b[32m--> \u001b[39m\u001b[32m274\u001b[39m     \u001b[38;5;28;01mreturn\u001b[39;00m \u001b[43m_delegate_property\u001b[49m\u001b[43m(\u001b[49m\u001b[33;43m\"\u001b[39;49m\u001b[33;43mx\u001b[39;49m\u001b[33;43m\"\u001b[39;49m\u001b[43m,\u001b[49m\u001b[43m \u001b[49m\u001b[38;5;28;43mself\u001b[39;49m\u001b[43m)\u001b[49m\n",
      "\u001b[36mFile \u001b[39m\u001b[32mc:\\Users\\conno\\AppData\\Local\\Programs\\Python\\Python313\\Lib\\site-packages\\geopandas\\base.py:93\u001b[39m, in \u001b[36m_delegate_property\u001b[39m\u001b[34m(op, this)\u001b[39m\n\u001b[32m     90\u001b[39m \u001b[38;5;28;01mdef\u001b[39;00m\u001b[38;5;250m \u001b[39m\u001b[34m_delegate_property\u001b[39m(op, this):\n\u001b[32m     91\u001b[39m     \u001b[38;5;66;03m# type: (str, GeoSeries) -> GeoSeries/Series\u001b[39;00m\n\u001b[32m     92\u001b[39m     a_this = GeometryArray(this.geometry.values)\n\u001b[32m---> \u001b[39m\u001b[32m93\u001b[39m     data = \u001b[38;5;28;43mgetattr\u001b[39;49m\u001b[43m(\u001b[49m\u001b[43ma_this\u001b[49m\u001b[43m,\u001b[49m\u001b[43m \u001b[49m\u001b[43mop\u001b[49m\u001b[43m)\u001b[49m\n\u001b[32m     94\u001b[39m     \u001b[38;5;28;01mif\u001b[39;00m \u001b[38;5;28misinstance\u001b[39m(data, GeometryArray):\n\u001b[32m     95\u001b[39m         \u001b[38;5;28;01mfrom\u001b[39;00m\u001b[38;5;250m \u001b[39m\u001b[34;01m.\u001b[39;00m\u001b[34;01mgeoseries\u001b[39;00m\u001b[38;5;250m \u001b[39m\u001b[38;5;28;01mimport\u001b[39;00m GeoSeries\n",
      "\u001b[36mFile \u001b[39m\u001b[32mc:\\Users\\conno\\AppData\\Local\\Programs\\Python\\Python313\\Lib\\site-packages\\geopandas\\array.py:1220\u001b[39m, in \u001b[36mGeometryArray.x\u001b[39m\u001b[34m(self)\u001b[39m\n\u001b[32m   1218\u001b[39m \u001b[38;5;28;01melse\u001b[39;00m:\n\u001b[32m   1219\u001b[39m     message = \u001b[33m\"\u001b[39m\u001b[33mx attribute access only provided for Point geometries\u001b[39m\u001b[33m\"\u001b[39m\n\u001b[32m-> \u001b[39m\u001b[32m1220\u001b[39m     \u001b[38;5;28;01mraise\u001b[39;00m \u001b[38;5;167;01mValueError\u001b[39;00m(message)\n",
      "\u001b[31mValueError\u001b[39m: x attribute access only provided for Point geometries"
     ]
    }
   ],
   "source": [
    "#Create H3 polygons / Assign points to H3 based on POP\n",
    "h3_8 = travis.h3.geo_to_h3(8)\n",
    "\n"
   ]
  },
  {
   "cell_type": "code",
   "execution_count": null,
   "id": "6a6495c0",
   "metadata": {},
   "outputs": [],
   "source": [
    "#showing H3 on map\n",
    "\n",
    "ax = travis.boundary.plot(color=\"black\")\n",
    "h3_8.plot(color = \"blue\")\n",
    "lma.plot(ax=ax, color=\"green\")"
   ]
  },
  {
   "cell_type": "code",
   "execution_count": null,
   "id": "e3224c3b",
   "metadata": {},
   "outputs": [],
   "source": [
    "#Conditional statement for H3-LMA aggregation\n",
    "#If H3-8 overlaps H3-7, run as 1; else, run\n",
    "#Need to figure out how to identify "
   ]
  },
  {
   "cell_type": "code",
   "execution_count": null,
   "id": "2560785a",
   "metadata": {},
   "outputs": [],
   "source": [
    "#Summarize Within for H3 and LMA"
   ]
  }
 ],
 "metadata": {
  "kernelspec": {
   "display_name": "Python 3",
   "language": "python",
   "name": "python3"
  },
  "language_info": {
   "codemirror_mode": {
    "name": "ipython",
    "version": 3
   },
   "file_extension": ".py",
   "mimetype": "text/x-python",
   "name": "python",
   "nbconvert_exporter": "python",
   "pygments_lexer": "ipython3",
   "version": "3.13.2"
  }
 },
 "nbformat": 4,
 "nbformat_minor": 5
}
